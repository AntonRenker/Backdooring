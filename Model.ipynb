{
 "cells": [
  {
   "cell_type": "code",
   "execution_count": 68,
   "metadata": {},
   "outputs": [],
   "source": [
    "import tensorflow as tf\n",
    "import numpy as np\n",
    "from tensorflow.keras import layers, models\n",
    "import matplotlib.pyplot as plt"
   ]
  },
  {
   "cell_type": "code",
   "execution_count": 53,
   "metadata": {},
   "outputs": [],
   "source": [
    "def convert_to_binary(x_train):\n",
    "    x_train_new = []\n",
    "    for j in range(len(x_train)):\n",
    "        array = x_train[j]\n",
    "        bin = np.vectorize(np.binary_repr)(array, width=8)\n",
    "        new_bin = np.zeros((len(bin), 8))\n",
    "        for i in range(len(bin)):\n",
    "            new_bin[i] = np.array([int(x) for x in bin[i]])\n",
    "        x_train_new.append(new_bin)\n",
    "    return np.array(x_train_new)\n"
   ]
  },
  {
   "cell_type": "code",
   "execution_count": 60,
   "metadata": {},
   "outputs": [
    {
     "name": "stdout",
     "output_type": "stream",
     "text": [
      "(60000, 28, 28)\n",
      "(60000, 784, 8)\n"
     ]
    }
   ],
   "source": [
    "# Load mnist data\n",
    "mnist = tf.keras.datasets.mnist\n",
    "(x_train, y_train), (x_test, y_test) = mnist.load_data()\n",
    "\n",
    "# flatten the images\n",
    "x_train = x_train.reshape(-1, 784).astype(int)\n",
    "x_test = x_test.reshape(-1, 784).astype(int)\n",
    "\n",
    "x_train_binary = convert_to_binary(x_train)\n",
    "x_test_binary = convert_to_binary(x_test)"
   ]
  },
  {
   "cell_type": "code",
   "execution_count": 106,
   "metadata": {},
   "outputs": [],
   "source": [
    "# store the training and testing data in a csv file\n",
    "np.save(\"mnist_data/mnist_train\", x_train_binary)\n",
    "np.save(\"mnist_data/mnist_test\", x_test_binary)\n",
    "np.save(\"mnist_data/mnist_train_labels\", y_train)\n",
    "np.save(\"mnist_data/mnist_test_labels\", y_test)"
   ]
  },
  {
   "cell_type": "code",
   "execution_count": 69,
   "metadata": {},
   "outputs": [
    {
     "name": "stdout",
     "output_type": "stream",
     "text": [
      "Epoch 1/10\n",
      "1500/1500 [==============================] - 36s 23ms/step - loss: 0.1526 - accuracy: 0.9521 - val_loss: 0.0678 - val_accuracy: 0.9802\n",
      "Epoch 2/10\n",
      "1500/1500 [==============================] - 35s 23ms/step - loss: 0.0502 - accuracy: 0.9841 - val_loss: 0.0587 - val_accuracy: 0.9823\n",
      "Epoch 3/10\n",
      "1500/1500 [==============================] - 35s 23ms/step - loss: 0.0341 - accuracy: 0.9889 - val_loss: 0.0539 - val_accuracy: 0.9852\n",
      "Epoch 4/10\n",
      "1500/1500 [==============================] - 35s 24ms/step - loss: 0.0250 - accuracy: 0.9919 - val_loss: 0.0531 - val_accuracy: 0.9855\n",
      "Epoch 5/10\n",
      "1500/1500 [==============================] - 41s 27ms/step - loss: 0.0184 - accuracy: 0.9938 - val_loss: 0.0464 - val_accuracy: 0.9890\n",
      "Epoch 6/10\n",
      "1500/1500 [==============================] - 37s 25ms/step - loss: 0.0145 - accuracy: 0.9955 - val_loss: 0.0527 - val_accuracy: 0.9879\n",
      "Epoch 7/10\n",
      "1500/1500 [==============================] - 37s 25ms/step - loss: 0.0117 - accuracy: 0.9962 - val_loss: 0.0662 - val_accuracy: 0.9847\n",
      "Epoch 8/10\n",
      "1500/1500 [==============================] - 35s 24ms/step - loss: 0.0124 - accuracy: 0.9961 - val_loss: 0.0552 - val_accuracy: 0.9866\n",
      "Epoch 9/10\n",
      "1500/1500 [==============================] - 36s 24ms/step - loss: 0.0094 - accuracy: 0.9970 - val_loss: 0.0590 - val_accuracy: 0.9872\n",
      "Epoch 10/10\n",
      "1500/1500 [==============================] - 36s 24ms/step - loss: 0.0081 - accuracy: 0.9969 - val_loss: 0.0710 - val_accuracy: 0.9866\n"
     ]
    },
    {
     "data": {
      "text/plain": [
       "<keras.callbacks.History at 0x2e8892fc950>"
      ]
     },
     "execution_count": 69,
     "metadata": {},
     "output_type": "execute_result"
    }
   ],
   "source": [
    "# Define model architecture\n",
    "model = models.Sequential([\n",
    "    layers.Reshape((28, 28, 8), input_shape=(784, 8)),\n",
    "    layers.Conv2D(32, (3, 3), activation='relu'),\n",
    "    layers.MaxPooling2D((2, 2)),\n",
    "    layers.Conv2D(64, (3, 3), activation='relu'),\n",
    "    layers.MaxPooling2D((2, 2)),\n",
    "    layers.Flatten(),\n",
    "    layers.Dense(64, activation='relu'),\n",
    "    layers.Dense(10, activation='softmax')  # Assuming you have 10 classes in your dataset\n",
    "])\n",
    "\n",
    "# Compile model\n",
    "model.compile(optimizer='adam',\n",
    "              loss='sparse_categorical_crossentropy',\n",
    "              metrics=['accuracy'])\n",
    "\n",
    "# Train model\n",
    "model.fit(x_train_binary, y_train, epochs=10, batch_size=32, validation_split=0.2)\n"
   ]
  },
  {
   "cell_type": "code",
   "execution_count": 81,
   "metadata": {},
   "outputs": [
    {
     "name": "stdout",
     "output_type": "stream",
     "text": [
      "313/313 [==============================] - 2s 7ms/step - loss: 0.0533 - accuracy: 0.9861\n",
      "Test Loss: 0.05330564081668854\n",
      "Test Accuracy: 0.9861000180244446\n"
     ]
    }
   ],
   "source": [
    "# Assuming your model is already trained and named 'model'\n",
    "# Evaluate the model on the test data\n",
    "test_loss, test_accuracy = model.evaluate(x_test_binary, y_test)\n",
    "\n",
    "print('Test Loss:', test_loss)\n",
    "print('Test Accuracy:', test_accuracy)\n"
   ]
  },
  {
   "cell_type": "code",
   "execution_count": 101,
   "metadata": {},
   "outputs": [],
   "source": [
    "# save the model\n",
    "model.save('mnist_binary.h5')"
   ]
  },
  {
   "cell_type": "code",
   "execution_count": 102,
   "metadata": {},
   "outputs": [],
   "source": [
    "# load the model\n",
    "model = models.load_model('mnist_binary.h5')"
   ]
  }
 ],
 "metadata": {
  "kernelspec": {
   "display_name": "Python 3",
   "language": "python",
   "name": "python3"
  },
  "language_info": {
   "codemirror_mode": {
    "name": "ipython",
    "version": 3
   },
   "file_extension": ".py",
   "mimetype": "text/x-python",
   "name": "python",
   "nbconvert_exporter": "python",
   "pygments_lexer": "ipython3",
   "version": "3.11.9"
  }
 },
 "nbformat": 4,
 "nbformat_minor": 2
}
