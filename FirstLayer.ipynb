{
 "cells": [
  {
   "cell_type": "code",
   "execution_count": 1,
   "metadata": {},
   "outputs": [],
   "source": [
    "import tensorflow as tf\n",
    "import numpy as np\n",
    "from tensorflow.keras import layers, models\n",
    "import matplotlib.pyplot as plt"
   ]
  },
  {
   "cell_type": "code",
   "execution_count": 2,
   "metadata": {},
   "outputs": [
    {
     "name": "stdout",
     "output_type": "stream",
     "text": [
      "(60000, 784, 8)\n",
      "(10000, 784, 8)\n",
      "(60000,)\n",
      "(10000,)\n"
     ]
    }
   ],
   "source": [
    "# Load the array from the .npy file\n",
    "x_train_binary = np.load(\"mnist_data/mnist_train.npy\")\n",
    "x_test_binary = np.load(\"mnist_data/mnist_test.npy\")\n",
    "y_train = np.load(\"mnist_data/mnist_train_labels.npy\")\n",
    "y_test = np.load(\"mnist_data/mnist_test_labels.npy\")\n",
    "\n",
    "# Verify the shape to ensure it was loaded correctly\n",
    "print(x_train_binary.shape)  # Should output: (60000, 784, 8)\n",
    "print(x_test_binary.shape)  # Should output: (10000, 784, 8)\n",
    "print(y_train.shape)  # Should output: (60000,)\n",
    "print(y_test.shape)  # Should output: (10000,)"
   ]
  },
  {
   "cell_type": "code",
   "execution_count": 10,
   "metadata": {},
   "outputs": [],
   "source": [
    "input_shape = (784, 8)\n",
    "output_shape = 784 * 8\n",
    "\n",
    "# Define the model\n",
    "model = tf.keras.Sequential([\n",
    "    tf.keras.layers.InputLayer(input_shape=input_shape),\n",
    "    tf.keras.layers.Flatten(),\n",
    "    tf.keras.layers.Dense(input_shape[0], activation='relu'),\n",
    "])"
   ]
  },
  {
   "cell_type": "code",
   "execution_count": 35,
   "metadata": {},
   "outputs": [
    {
     "name": "stdout",
     "output_type": "stream",
     "text": [
      "(784, 8)\n"
     ]
    }
   ],
   "source": [
    "print(x_train_binary[0].shape)"
   ]
  },
  {
   "cell_type": "code",
   "execution_count": 36,
   "metadata": {},
   "outputs": [],
   "source": [
    "x_train = x_train_binary.reshape(60000, 784 * 8).copy()"
   ]
  },
  {
   "cell_type": "code",
   "execution_count": 41,
   "metadata": {},
   "outputs": [
    {
     "name": "stdout",
     "output_type": "stream",
     "text": [
      "(60000, 6272)\n"
     ]
    }
   ],
   "source": [
    "print(x_train.shape)"
   ]
  },
  {
   "cell_type": "code",
   "execution_count": 86,
   "metadata": {},
   "outputs": [],
   "source": [
    "# creat numpy array of same shape then x_train\n",
    "y_train = []\n",
    "length = 784 * 8\n",
    "\n",
    "for i in range(60000):\n",
    "    mask = np.zeros(length, dtype=int)\n",
    "    mask[7::8] = 1\n",
    "    y_train.append(x_train[i] * mask)\n",
    "\n",
    "y_train = np.array(y_train)"
   ]
  },
  {
   "cell_type": "code",
   "execution_count": 95,
   "metadata": {},
   "outputs": [
    {
     "data": {
      "text/plain": [
       "158.875"
      ]
     },
     "execution_count": 95,
     "metadata": {},
     "output_type": "execute_result"
    }
   ],
   "source": [
    "1271 / 8"
   ]
  },
  {
   "cell_type": "code",
   "execution_count": 72,
   "metadata": {},
   "outputs": [
    {
     "data": {
      "text/plain": [
       "6272"
      ]
     },
     "execution_count": 72,
     "metadata": {},
     "output_type": "execute_result"
    }
   ],
   "source": [
    "len(mask)"
   ]
  }
 ],
 "metadata": {
  "kernelspec": {
   "display_name": "Python 3",
   "language": "python",
   "name": "python3"
  },
  "language_info": {
   "codemirror_mode": {
    "name": "ipython",
    "version": 3
   },
   "file_extension": ".py",
   "mimetype": "text/x-python",
   "name": "python",
   "nbconvert_exporter": "python",
   "pygments_lexer": "ipython3",
   "version": "3.11.9"
  }
 },
 "nbformat": 4,
 "nbformat_minor": 2
}
